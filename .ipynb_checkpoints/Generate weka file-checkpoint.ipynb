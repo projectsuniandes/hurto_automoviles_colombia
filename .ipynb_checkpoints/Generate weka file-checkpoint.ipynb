{
 "cells": [
  {
   "cell_type": "markdown",
   "metadata": {},
   "source": [
    "# Generating ARFF file from the CSV file"
   ]
  },
  {
   "cell_type": "code",
   "execution_count": 31,
   "metadata": {
    "collapsed": true
   },
   "outputs": [],
   "source": [
    "import pandas as pd\n",
    "import subprocess\n",
    "import numpy as np"
   ]
  },
  {
   "cell_type": "markdown",
   "metadata": {},
   "source": [
    "## Create the necessary variables"
   ]
  },
  {
   "cell_type": "code",
   "execution_count": 32,
   "metadata": {
    "collapsed": true
   },
   "outputs": [],
   "source": [
    "_ruta_salida='processed.csv' #Ruta al csv generado con OpenRefine\n",
    "_weka=\"weka-3-8-1/weka.jar\" #Ruta al jar de weka\n",
    "_arff_path=_ruta_salida.replace('.csv','.arff') #Ruta al arff de salida."
   ]
  },
  {
   "cell_type": "markdown",
   "metadata": {},
   "source": [
    "## Use the weka.jar file to generate the .arff file"
   ]
  },
  {
   "cell_type": "code",
   "execution_count": 34,
   "metadata": {
    "collapsed": true
   },
   "outputs": [],
   "source": [
    "with open(_arff_path, \"w\") as arff:\n",
    "    p=subprocess.Popen(['java','-classpath',_weka,\"weka.core.converters.CSVLoader\", _ruta_salida,\"-E\", '\"',\"-S\", \"1-2\",'-N','3-last', '-B','56000', '-L','3-last:0,1'],stdout=arff)\n",
    "    p.wait()"
   ]
  },
  {
   "cell_type": "markdown",
   "metadata": {},
   "source": [
    "## If error\n",
    "- Make shure you do not have =,',\",*,-,% in your dataset (csv)\n",
    "- if the last line of the arff file generated is @data generate the file with this command `java -cp weka-3-8-1/weka.jar weka.core.converters.CSVLoader <name_existing_file>.csv > <name_new_file>.arff -B <num_of_rows_in_the_dataset>` "
   ]
  },
  {
   "cell_type": "markdown",
   "metadata": {},
   "source": [
    "# GREL Scripts\n",
    "## Replace all the characters that can cause problems converting the CSV file into ARFF"
   ]
  },
  {
   "cell_type": "code",
   "execution_count": 1,
   "metadata": {},
   "outputs": [
    {
     "ename": "NameError",
     "evalue": "name 'value' is not defined",
     "output_type": "error",
     "traceback": [
      "\u001b[0;31m---------------------------------------------------------------------------\u001b[0m",
      "\u001b[0;31mNameError\u001b[0m                                 Traceback (most recent call last)",
      "\u001b[0;32m<ipython-input-1-a8de3438d3c2>\u001b[0m in \u001b[0;36m<module>\u001b[0;34m()\u001b[0m\n\u001b[0;32m----> 1\u001b[0;31m \u001b[0mvalue\u001b[0m\u001b[0;34m.\u001b[0m\u001b[0mreplace\u001b[0m\u001b[0;34m(\u001b[0m\u001b[0;34m\",\"\u001b[0m\u001b[0;34m,\u001b[0m\u001b[0;34m\"_\"\u001b[0m\u001b[0;34m)\u001b[0m\u001b[0;34m.\u001b[0m\u001b[0mreplace\u001b[0m\u001b[0;34m(\u001b[0m\u001b[0;34m\"=\"\u001b[0m\u001b[0;34m,\u001b[0m\u001b[0;34m\"_\"\u001b[0m\u001b[0;34m)\u001b[0m\u001b[0;34m.\u001b[0m\u001b[0mreplace\u001b[0m\u001b[0;34m(\u001b[0m\u001b[0;34m\"'\"\u001b[0m\u001b[0;34m,\u001b[0m\u001b[0;34m\"\"\u001b[0m\u001b[0;34m)\u001b[0m\u001b[0;34m.\u001b[0m\u001b[0mreplace\u001b[0m\u001b[0;34m(\u001b[0m\u001b[0;34m\"*\"\u001b[0m\u001b[0;34m,\u001b[0m\u001b[0;34m\"_\"\u001b[0m\u001b[0;34m)\u001b[0m\u001b[0;34m.\u001b[0m\u001b[0mreplace\u001b[0m\u001b[0;34m(\u001b[0m\u001b[0;34m\"+\"\u001b[0m\u001b[0;34m,\u001b[0m\u001b[0;34m\"_\"\u001b[0m\u001b[0;34m)\u001b[0m\u001b[0;34m.\u001b[0m\u001b[0mreplace\u001b[0m\u001b[0;34m(\u001b[0m\u001b[0;34m\"-\"\u001b[0m\u001b[0;34m,\u001b[0m\u001b[0;34m\"_\"\u001b[0m\u001b[0;34m)\u001b[0m\u001b[0;34m.\u001b[0m\u001b[0mreplace\u001b[0m\u001b[0;34m(\u001b[0m\u001b[0;34m\"%\"\u001b[0m\u001b[0;34m,\u001b[0m\u001b[0;34m\"_\"\u001b[0m\u001b[0;34m)\u001b[0m\u001b[0;34m.\u001b[0m\u001b[0mreplace\u001b[0m\u001b[0;34m(\u001b[0m\u001b[0;34m\" \"\u001b[0m\u001b[0;34m,\u001b[0m\u001b[0;34m\"_\"\u001b[0m\u001b[0;34m)\u001b[0m\u001b[0;34m\u001b[0m\u001b[0m\n\u001b[0m\u001b[1;32m      2\u001b[0m \u001b[0mvalue\u001b[0m\u001b[0;34m.\u001b[0m\u001b[0mreplace\u001b[0m\u001b[0;34m(\u001b[0m\u001b[0;34m\"\\\"\"\u001b[0m\u001b[0;34m,\u001b[0m\u001b[0;34m\"\"\u001b[0m\u001b[0;34m)\u001b[0m\u001b[0;34m.\u001b[0m\u001b[0mreplace\u001b[0m\u001b[0;34m(\u001b[0m\u001b[0;34m\"\\'\"\u001b[0m\u001b[0;34m,\u001b[0m\u001b[0;34m\"\"\u001b[0m\u001b[0;34m)\u001b[0m\u001b[0;34m\u001b[0m\u001b[0m\n",
      "\u001b[0;31mNameError\u001b[0m: name 'value' is not defined"
     ]
    }
   ],
   "source": [
    "value.replace(\",\",\"_\").replace(\"=\",\"_\").replace(\"'\",\"\").replace(\"*\",\"_\").replace(\"+\",\"_\").replace(\"-\",\"_\").replace(\"%\",\"_\").replace(\" \",\"_\")\n",
    "value.replace(\"\\\"\",\"\").replace(\"\\'\",\"\")"
   ]
  },
  {
   "cell_type": "markdown",
   "metadata": {},
   "source": [
    "## 12h to 24h\n",
    "Script that converts 12 hours format into 24h"
   ]
  },
  {
   "cell_type": "code",
   "execution_count": 27,
   "metadata": {},
   "outputs": [
    {
     "data": {
      "text/plain": [
       "'00:00:00'"
      ]
     },
     "execution_count": 27,
     "metadata": {},
     "output_type": "execute_result"
    }
   ],
   "source": [
    "value = \"12:00:00_PM\"\n",
    "res = \"\"\n",
    "def hola():\n",
    "    if \"_AM\" in value: \n",
    "        res= value.split(\"_\")[0]\n",
    "    elif \"_PM\" in value:\n",
    "        arr = value.split(\":\")\n",
    "        if arr[0] ==\"12\":\n",
    "            arr[0] = \"00\"\n",
    "        elif arr[0] != \"12\":\n",
    "            arr[0] = int(arr[0])+12\n",
    "\n",
    "        res=\"\"+str(arr[0])+\":\"+arr[1]+\":\"+arr[2].split(\"_\")[0]\n",
    "\n",
    "    return res\n",
    "hola()"
   ]
  },
  {
   "cell_type": "markdown",
   "metadata": {},
   "source": [
    "## Final script in openRefine\n",
    "Script working in open refine, take into account that the hours were previously modified replacing the spaces with underscores"
   ]
  },
  {
   "cell_type": "code",
   "execution_count": null,
   "metadata": {
    "collapsed": true
   },
   "outputs": [],
   "source": [
    "res=\"\"\n",
    "if \"_AM\" in value: \n",
    "    res= value.split(\"_\")[0]\n",
    "elif \"_PM\" in value:\n",
    "    arr = value.split(\":\")\n",
    "    if arr[0] ==\"12\":\n",
    "        arr[0] = \"00\"\n",
    "    elif arr[0] != \"12\":\n",
    "        arr[0] = int(arr[0])+12\n",
    "    res=\"\"+str(arr[0])+\":\"+arr[1]+\":\"+arr[2].split(\"_\")[0]\n",
    "return res"
   ]
  },
  {
   "cell_type": "markdown",
   "metadata": {},
   "source": [
    "## Merging two columns in openRefine\n",
    "Script that merge 'Fecha' and 'Hora' in openRefine with the option 'Add column based on this column' "
   ]
  },
  {
   "cell_type": "code",
   "execution_count": null,
   "metadata": {
    "collapsed": true
   },
   "outputs": [],
   "source": [
    "if(isBlank(cells[\"Fecha\"].value), \" \", cells[\"Fecha\"].value)  + \" \"+if(isBlank(cells[\"Hora\"].value), \" \", cells[\"Hora\"].value)"
   ]
  },
  {
   "cell_type": "code",
   "execution_count": null,
   "metadata": {
    "collapsed": true
   },
   "outputs": [],
   "source": [
    "if(value==\"_\",\"\",value)"
   ]
  },
  {
   "cell_type": "markdown",
   "metadata": {},
   "source": [
    "## Standarizing the dates\n",
    "Script that change format of date **`M/dd/yy HH:mm:ss`** into **`MM/dd/yyyy HH:mm`** "
   ]
  },
  {
   "cell_type": "code",
   "execution_count": 50,
   "metadata": {},
   "outputs": [
    {
     "data": {
      "text/plain": [
       "'01/13/2016 03:00'"
      ]
     },
     "execution_count": 50,
     "metadata": {},
     "output_type": "execute_result"
    }
   ],
   "source": [
    "value= \"01/13/2016 03:00:00\"\n",
    "def main():\n",
    "    data = value.split(\" \")\n",
    "    date = data[0]\n",
    "    month = date.split(\"/\")[0]\n",
    "    year = date.split(\"/\")[2]\n",
    "    hour = data[1]\n",
    "    h = hour.split(\":\")[0]\n",
    "    if len(date.split(\"/\")[0])== 1:\n",
    "        month = \"0\"+month\n",
    "    if len(year)==2:\n",
    "        year = \"20\"+year\n",
    "    if len(h)==1:\n",
    "        h = \"0\"+h\n",
    "        hour= h+\":\"+hour.split(\":\")[1]\n",
    "    if len(hour.split(\":\"))==3:\n",
    "        hour= h+\":\"+hour.split(\":\")[1]\n",
    "    \n",
    "    return month +\"/\"+ date.split(\"/\")[1]+\"/\" + year +\" \" +hour\n",
    "main()"
   ]
  },
  {
   "cell_type": "markdown",
   "metadata": {},
   "source": [
    "Same script but working with openRefine"
   ]
  },
  {
   "cell_type": "code",
   "execution_count": null,
   "metadata": {
    "collapsed": true
   },
   "outputs": [],
   "source": [
    "data = value.split(\" \")\n",
    "date = data[0]\n",
    "month = date.split(\"/\")[0]\n",
    "year = date.split(\"/\")[2]\n",
    "hour = data[1]\n",
    "h = hour.split(\":\")[0]\n",
    "if len(date.split(\"/\")[0])== 1:\n",
    "    month = \"0\"+month\n",
    "if len(year)==2:\n",
    "    year = \"20\"+year\n",
    "if len(h)==1:\n",
    "    h = \"0\"+h\n",
    "    hour= h+\":\"+hour.split(\":\")[1]\n",
    "if len(hour.split(\":\"))==3:\n",
    "    hour= h+\":\"+hour.split(\":\")[1]\n",
    "    \n",
    "return month +\"/\"+ date.split(\"/\")[1]+\"/\" + year +\" \" +hour"
   ]
  }
 ],
 "metadata": {
  "kernelspec": {
   "display_name": "Python 3",
   "language": "python",
   "name": "python3"
  },
  "language_info": {
   "codemirror_mode": {
    "name": "ipython",
    "version": 3
   },
   "file_extension": ".py",
   "mimetype": "text/x-python",
   "name": "python",
   "nbconvert_exporter": "python",
   "pygments_lexer": "ipython3",
   "version": "3.6.1"
  }
 },
 "nbformat": 4,
 "nbformat_minor": 2
}
