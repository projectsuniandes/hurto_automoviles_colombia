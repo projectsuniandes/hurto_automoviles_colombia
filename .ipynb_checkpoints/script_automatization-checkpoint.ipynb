{
 "cells": [
  {
   "cell_type": "code",
   "execution_count": 45,
   "metadata": {
    "collapsed": true
   },
   "outputs": [],
   "source": [
    "import subprocess\n",
    "import shlex\n",
    "from subprocess import Popen, PIPE"
   ]
  },
  {
   "cell_type": "code",
   "execution_count": 61,
   "metadata": {
    "collapsed": true
   },
   "outputs": [],
   "source": [
    "ruta_archivo = './data/pre-processed/pre_processed_compilated.csv' #Ruta al csv generado con OpenRefine\n",
    "java_and_classpath = \"java -classpath \"\n",
    "weka = \"./weka-3-8-1/weka.jar \" #Ruta al jar de weka, depende del computador OJO\n",
    "\n"
   ]
  },
  {
   "cell_type": "code",
   "execution_count": 62,
   "metadata": {
    "collapsed": true
   },
   "outputs": [],
   "source": [
    "def get_exitcode_stdout_stderr(cmd):\n",
    "    \"\"\"\n",
    "    Execute the external command and get its exitcode, stdout and stderr.\n",
    "    \"\"\"\n",
    "    args = shlex.split(cmd)\n",
    "\n",
    "    proc = Popen(args, stdout=PIPE, stderr=PIPE)\n",
    "    out, err = proc.communicate()\n",
    "    exitcode = proc.returncode\n",
    "    #\n",
    "    return exitcode, out, err"
   ]
  },
  {
   "cell_type": "code",
   "execution_count": 63,
   "metadata": {
    "collapsed": true
   },
   "outputs": [],
   "source": [
    "kmeans = \"weka.clusterers.SimpleKMeans -init 0 -max-candidates 100 -periodic-pruning 10000 -min-density 2.0 -t1 -1.25 -t2 -1.0 -N 2 -A \\\"weka.core.EuclideanDistance -R first-last\\\" -I 500 -num-slots 1 -S 10 -t \"     \n",
    "basic_rules = \"weka.classifiers.rules.ZeroR -t \"\n",
    "j48_tree = \"weka.classifiers.trees.J48 -C 0.25 -M 25 -t \""
   ]
  },
  {
   "cell_type": "code",
   "execution_count": 64,
   "metadata": {},
   "outputs": [
    {
     "name": "stdout",
     "output_type": "stream",
     "text": [
      "data/pre-processed/pre_processed_compilated.csv\n"
     ]
    }
   ],
   "source": [
    "print(ruta_archivo)"
   ]
  },
  {
   "cell_type": "code",
   "execution_count": 65,
   "metadata": {
    "collapsed": true
   },
   "outputs": [],
   "source": [
    "\n",
    "# Association rules- Apriori Algorithm\n",
    "cmd_tree = java_and_classpath + weka +  j48_tree + ruta_archivo\n",
    "exitcode_tree, out_tree, err_tree = get_exitcode_stdout_stderr(cmd_tree)\n",
    "\n",
    "# Segmentation - KMeans clustering\n",
    "cmd_kmeans = java_and_classpath + weka + kmeans + ruta_archivo\n",
    "exitcode_kmeans, out_kmeans, err_kmeans = get_exitcode_stdout_stderr(cmd_kmeans)"
   ]
  },
  {
   "cell_type": "code",
   "execution_count": 66,
   "metadata": {},
   "outputs": [],
   "source": [
    "new_name = \"./data/results/result_\"\n",
    "\n",
    "\n",
    "with open( new_name + 'tree.txt', 'wb') as w:\n",
    "    w.write(out_tree)\n",
    "    \n",
    "with open(new_name + 'kmeans.txt', 'wb') as w:\n",
    "    w.write(out_kmeans)"
   ]
  },
  {
   "cell_type": "code",
   "execution_count": 67,
   "metadata": {},
   "outputs": [
    {
     "name": "stdout",
     "output_type": "stream",
     "text": [
      "b'\\nWeka exception: No source has been specified\\n\\nGeneral options:\\n\\n-h or -help\\n\\tOutput help information.\\n-synopsis or -info\\n\\tOutput synopsis for classifier (use in conjunction  with -h)\\n-t <name of training file>\\n\\tSets training file.\\n-T <name of test file>\\n\\tSets test file. If missing, a cross-validation will be performed\\n\\ton the training data.\\n-c <class index>\\n\\tSets index of class attribute (default: last).\\n-x <number of folds>\\n\\tSets number of folds for cross-validation (default: 10).\\n-no-cv\\n\\tDo not perform any cross validation.\\n-force-batch-training\\n\\tAlways train classifier in batch mode, never incrementally.\\n-split-percentage <percentage>\\n\\tSets the percentage for the train/test set split, e.g., 66.\\n-preserve-order\\n\\tPreserves the order in the percentage split.\\n-s <random number seed>\\n\\tSets random number seed for cross-validation or percentage split\\n\\t(default: 1).\\n-m <name of file with cost matrix>\\n\\tSets file with cost matrix.\\n-toggle <comma-separated list of evaluation metric names>\\n\\tComma separated list of metric names to toggle in the output.\\n\\tAll metrics are output by default with the exception of \\'Coverage\\' and \\'Region size\\'.\\n\\tAvailable metrics:\\n\\tCorrect,Incorrect,Kappa,Total cost,Average cost,KB relative,KB information,\\n\\tCorrelation,Complexity 0,Complexity scheme,Complexity improvement,\\n\\tMAE,RMSE,RAE,RRSE,Coverage,Region size,TP rate,FP rate,Precision,Recall,\\n\\tF-measure,MCC,ROC area,PRC area\\n-l <name of input file>\\n\\tSets model input file. In case the filename ends with \\'.xml\\',\\n\\ta PMML file is loaded or, if that fails, options are loaded\\n\\tfrom the XML file.\\n-d <name of output file>\\n\\tSets model output file. In case the filename ends with \\'.xml\\',\\n\\tonly the options are saved to the XML file, not the model.\\n-v\\n\\tOutputs no statistics for training data.\\n-o\\n\\tOutputs statistics only, not the classifier.\\n-do-not-output-per-class-statistics\\n\\tDo not output statistics for each class.\\n-k\\n\\tOutputs information-theoretic statistics.\\n-classifications \"weka.classifiers.evaluation.output.prediction.AbstractOutput + options\"\\n\\tUses the specified class for generating the classification output.\\n\\tE.g.: weka.classifiers.evaluation.output.prediction.PlainText\\n-p range\\n\\tOutputs predictions for test instances (or the train instances if\\n\\tno test instances provided and -no-cv is used), along with the \\n\\tattributes in the specified range (and nothing else). \\n\\tUse \\'-p 0\\' if no attributes are desired.\\n\\tDeprecated: use \"-classifications ...\" instead.\\n-distribution\\n\\tOutputs the distribution instead of only the prediction\\n\\tin conjunction with the \\'-p\\' option (only nominal classes).\\n\\tDeprecated: use \"-classifications ...\" instead.\\n-r\\n\\tOnly outputs cumulative margin distribution.\\n-z <class name>\\n\\tOnly outputs the source representation of the classifier,\\n\\tgiving it the supplied name.\\n-g\\n\\tOnly outputs the graph representation of the classifier.\\n-xml filename | xml-string\\n\\tRetrieves the options from the XML-data instead of the command line.\\n-threshold-file <file>\\n\\tThe file to save the threshold data to.\\n\\tThe format is determined by the extensions, e.g., \\'.arff\\' for ARFF \\n\\tformat or \\'.csv\\' for CSV.\\n-threshold-label <label>\\n\\tThe class label to determine the threshold data for\\n\\t(default is the first label)\\n-no-predictions\\n\\tTurns off the collection of predictions in order to conserve memory.\\n\\nOptions specific to weka.classifiers.trees.J48:\\n\\n-U\\n\\tUse unpruned tree.\\n-O\\n\\tDo not collapse tree.\\n-C <pruning confidence>\\n\\tSet confidence threshold for pruning.\\n\\t(default 0.25)\\n-M <minimum number of instances>\\n\\tSet minimum number of instances per leaf.\\n\\t(default 2)\\n-R\\n\\tUse reduced error pruning.\\n-N <number of folds>\\n\\tSet number of folds for reduced error\\n\\tpruning. One fold is used as pruning set.\\n\\t(default 3)\\n-B\\n\\tUse binary splits only.\\n-S\\n\\tDo not perform subtree raising.\\n-L\\n\\tDo not clean up after the tree has been built.\\n-A\\n\\tLaplace smoothing for predicted probabilities.\\n-J\\n\\tDo not use MDL correction for info gain on numeric attributes.\\n-Q <seed>\\n\\tSeed for random data shuffling (default 1).\\n-doNotMakeSplitPointActualValue\\n\\tDo not make split point actual value.\\n-output-debug-info\\n\\tIf set, classifier is run in debug mode and\\n\\tmay output additional info to the console\\n-do-not-check-capabilities\\n\\tIf set, classifier capabilities are not checked before classifier is built\\n\\t(use with caution).\\n-num-decimal-places\\n\\tThe number of decimal places for the output of numbers in the model (default 2).\\n-batch-size\\n\\tThe desired batch size for batch prediction  (default 100).\\n\\n'\n"
     ]
    }
   ],
   "source": [
    "print(err_tree)"
   ]
  },
  {
   "cell_type": "code",
   "execution_count": null,
   "metadata": {
    "collapsed": true
   },
   "outputs": [],
   "source": []
  }
 ],
 "metadata": {
  "kernelspec": {
   "display_name": "Python 3",
   "language": "python",
   "name": "python3"
  },
  "language_info": {
   "codemirror_mode": {
    "name": "ipython",
    "version": 3
   },
   "file_extension": ".py",
   "mimetype": "text/x-python",
   "name": "python",
   "nbconvert_exporter": "python",
   "pygments_lexer": "ipython3",
   "version": "3.6.1"
  }
 },
 "nbformat": 4,
 "nbformat_minor": 2
}
